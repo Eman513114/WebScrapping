{
 "cells": [
  {
   "cell_type": "code",
   "execution_count": 12,
   "metadata": {},
   "outputs": [],
   "source": [
    "from bs4 import BeautifulSoup\n",
    "import requests\n",
    "import pandas as pd"
   ]
  },
  {
   "cell_type": "code",
   "execution_count": 13,
   "metadata": {},
   "outputs": [],
   "source": [
    "#weather stuff for top six cities in US [New_york , Los Angeles , San Francisco , Chicago , Washington , San Diego]\n",
    "\n",
    "url_list={'New_york':'https://forecast.weather.gov/MapClick.php?lat=42.93708397900008&lon=-75.61070144699994#.X6iSLcSxXIU',\n",
    "          'Los Angeles':'https://forecast.weather.gov/MapClick.php?lat=34.3428&lon=-118.2209#.X6iSYcSxXIU',\n",
    "          'San Francisco':'https://forecast.weather.gov/MapClick.php?lat=37.7771&lon=-122.4196#.X6iS9cSxXIU',\n",
    "          'Chicago':'https://forecast.weather.gov/MapClick.php?lat=41.8843&lon=-87.6324#.X6iTTsSxXIU',\n",
    "         'Washington':'https://forecast.weather.gov/MapClick.php?lat=38.8904&lon=-77.032#.X6iTl8SxXIV',\n",
    "          'San Diego':'https://forecast.weather.gov/MapClick.php?lat=32.7157&lon=-117.1617#.X6iT3sSxXIU'\n",
    "         }\n",
    "lis=[]\n",
    "for key,value in url_list.items():\n",
    "    page=requests.get(value)\n",
    "    soup = BeautifulSoup(page.content, 'lxml')\n",
    "    week=soup.find(id='seven-day-forecast-container')\n",
    "    items=week.find_all(class_='tombstone-container')\n",
    "    city=key\n",
    "    name=[item.find(class_='period-name').text for item in items]\n",
    "    desc=[item.find(class_='short-desc').text for item in items]\n",
    "    temp=[item.find(class_='temp').text for item in items]\n",
    "    weather_stuff=pd.DataFrame({'City':city,\n",
    "            'Period':name,\n",
    "            'Description':desc ,\n",
    "            'Temperature':temp })\n",
    "    lis.append(weather_stuff)\n",
    "# concating all data to gether\n",
    "weather_data = pd.concat(lis)"
   ]
  },
  {
   "cell_type": "code",
   "execution_count": 14,
   "metadata": {},
   "outputs": [
    {
     "name": "stdout",
     "output_type": "stream",
     "text": [
      "the temperature analysis periods are [Today , Tonight , Tuesday , TuesdayNight , VeteransDay , WednesdayNight , Thursday ,ThursdayNight , Friday , temperature week average],please choose from them .\n",
      "Which period you wanna the temperature analysis?friday\n",
      "City\n",
      "Chicago          48\n",
      "Los Angeles      49\n",
      "New_york         53\n",
      "San Diego        66\n",
      "San Francisco    62\n",
      "Washington       64\n",
      "Name: Temperature_Degree, dtype: int32\n",
      "AxesSubplot(0.125,0.125;0.775x0.755)\n"
     ]
    },
    {
     "data": {
      "image/png": "[encoded data removed]",
      "text/plain": [
       "<Figure size 432x288 with 1 Axes>"
      ]
     },
     "metadata": {
      "needs_background": "light"
     },
     "output_type": "display_data"
    }
   ],
   "source": [
    "weather_data['Temperature_Degree']=weather_data['Temperature'].str[-5:-2]\n",
    "\n",
    "weather_data['Temperature_Degree']=weather_data['Temperature_Degree'].astype(int)\n",
    "\n",
    "new=['today','tonight','tuesday','tuesdaynight','veteransday','wednesdaynight','thursday','thursdayNight','friday','temperature week average']\n",
    "print('the temperature analysis periods are [Today , Tonight , Tuesday , TuesdayNight , VeteransDay , WednesdayNight , Thursday ,ThursdayNight , Friday , temperature week average],please choose from them .')\n",
    "temp_period =input('Which period you wanna the temperature analysis?')\n",
    "if temp_period.lower().strip() in new:\n",
    "    data=weather_data[weather_data['Period']== temp_period.lower().strip().title()]\n",
    "    print(data.groupby('City')['Temperature_Degree'].mean().round())\n",
    "    print(data.groupby('City')['Temperature_Degree'].mean().plot(kind='line'))\n",
    "else:\n",
    "    print('out of periods,please choose from the list up.')\n"
   ]
  }
 ],
 "metadata": {
  "kernelspec": {
   "display_name": "Python 3",
   "language": "python",
   "name": "python3"
  },
  "language_info": {
   "codemirror_mode": {
    "name": "ipython",
    "version": 3
   },
   "file_extension": ".py",
   "mimetype": "text/x-python",
   "name": "python",
   "nbconvert_exporter": "python",
   "pygments_lexer": "ipython3",
   "version": "3.7.6"
  }
 },
 "nbformat": 4,
 "nbformat_minor": 4
}
